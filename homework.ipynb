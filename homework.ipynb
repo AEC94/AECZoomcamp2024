{
  "cells": [
    {
      "cell_type": "code",
      "execution_count": 1,
      "metadata": {
        "id": "TOi3wVVXIHHB"
      },
      "outputs": [],
      "source": [
        "%%capture\n",
        "!pip install pyspark==3.3.2\n",
        "!pip install findspark\n",
        "!pip install pyngrok"
      ]
    },
    {
      "cell_type": "code",
      "execution_count": 2,
      "metadata": {
        "id": "v8uw-DD6IKCs"
      },
      "outputs": [],
      "source": [
        "import findspark\n",
        "\n",
        "findspark.init()\n",
        "\n",
        "from pyspark.sql import SparkSession\n",
        "\n",
        "spark = SparkSession.builder \\\n",
        "        .appName('homework_5') \\\n",
        "        .getOrCreate()"
      ]
    },
    {
      "cell_type": "code",
      "execution_count": 3,
      "metadata": {
        "colab": {
          "base_uri": "https://localhost:8080/"
        },
        "id": "8KRYgc8JIMtg",
        "outputId": "19a1a88c-5853-45cf-982b-de780022046c"
      },
      "outputs": [
        {
          "name": "stdout",
          "output_type": "stream",
          "text": [
            "Enter your authtoken, which can be copied from https://dashboard.ngrok.com/get-started/your-authtoken\n",
            "··········\n"
          ]
        },
        {
          "name": "stderr",
          "output_type": "stream",
          "text": [
            "WARNING:pyngrok.process.ngrok:t=2024-03-05T20:16:52+0000 lvl=warn msg=\"can't bind default web address, trying alternatives\" obj=web addr=127.0.0.1:4040\n"
          ]
        },
        {
          "name": "stdout",
          "output_type": "stream",
          "text": [
            " * ngrok tunnel \"https://db02-34-73-111-88.ngrok-free.app\" -> \"http://127.0.0.1:4040\"\n"
          ]
        }
      ],
      "source": [
        "from pyngrok import ngrok, conf\n",
        "import getpass\n",
        "\n",
        "conf.get_default().auth_token = getpass.getpass()\n",
        "\n",
        "ui_port = 4040\n",
        "public_url = ngrok.connect(ui_port).public_url\n",
        "print(f\" * ngrok tunnel \\\"{public_url}\\\" -> \\\"http://127.0.0.1:{ui_port}\\\"\")"
      ]
    },
    {
      "cell_type": "code",
      "execution_count": 10,
      "metadata": {
        "id": "ytU_KDiQP5Uk"
      },
      "outputs": [],
      "source": [
        "!wget https://github.com/DataTalksClub/nyc-tlc-data/releases/download/fhv/fhv_tripdata_2019-10.csv.gz\n",
        "!wget https://github.com/DataTalksClub/nyc-tlc-data/releases/download/misc/taxi_zone_lookup.csv\n",
        "!gzip -dc fhv_tripdata_2019-10.csv.gz > fhv_tripdata_2019-10.csv"
      ]
    },
    {
      "cell_type": "code",
      "execution_count": 5,
      "metadata": {
        "colab": {
          "base_uri": "https://localhost:8080/",
          "height": 53
        },
        "id": "nagXm_07QAyG",
        "outputId": "6e65ce93-74a7-4a7c-ed3f-63dd2900a83b"
      },
      "outputs": [
        {
          "data": {
            "application/vnd.google.colaboratory.intrinsic+json": {
              "type": "string"
            },
            "text/plain": [
              "'3.3.2'"
            ]
          },
          "execution_count": 5,
          "metadata": {},
          "output_type": "execute_result"
        }
      ],
      "source": [
        "spark.version"
      ]
    },
    {
      "cell_type": "code",
      "execution_count": 42,
      "metadata": {
        "id": "nx-Rp23VSuxL"
      },
      "outputs": [],
      "source": [
        "from pyspark.sql import types\n",
        "schema_fhv = types.StructType([\n",
        "    types.StructField('dispatching_base_num', types.StringType(), True),\n",
        "    types.StructField('pickup_datetime', types.TimestampType(), True),\n",
        "    types.StructField('dropoff_datetime', types.TimestampType(), True),\n",
        "    types.StructField('PULocationID', types.IntegerType(), True),\n",
        "    types.StructField('DOLocationID', types.IntegerType(), True),\n",
        "    types.StructField('SR_Flag', types.StringType(), True),\n",
        "    types.StructField('Affiliated_base_number', types.StringType(), True),\n",
        "])"
      ]
    },
    {
      "cell_type": "code",
      "execution_count": 43,
      "metadata": {
        "colab": {
          "base_uri": "https://localhost:8080/"
        },
        "id": "KwFfxO-mRSzY",
        "outputId": "dfb43f9d-742e-47d5-b65f-bae128dc8722"
      },
      "outputs": [
        {
          "name": "stderr",
          "output_type": "stream",
          "text": [
            "/usr/local/lib/python3.10/dist-packages/pyspark/sql/dataframe.py:229: FutureWarning: Deprecated in 2.0, use createOrReplaceTempView instead.\n",
            "  warnings.warn(\"Deprecated in 2.0, use createOrReplaceTempView instead.\", FutureWarning)\n"
          ]
        }
      ],
      "source": [
        "df_fhv = spark.read \\\n",
        "    .option(\"header\", \"true\") \\\n",
        "    .schema(schema_fhv) \\\n",
        "    .csv('/content/fhv_tripdata_2019-10.csv')\n",
        "df_fhv = df_fhv.repartition(6)\n",
        "df_fhv.write.parquet('fhv/2019/10/')\n",
        "df_fhv.registerTempTable('fhv_tripdata')"
      ]
    },
    {
      "cell_type": "code",
      "execution_count": 44,
      "metadata": {
        "id": "JTu_aSPVYPsF"
      },
      "outputs": [],
      "source": [
        "zones_schema = types.StructType([\n",
        "    types.StructField('LocationID', types.IntegerType(), True),\n",
        "    types.StructField('Borough', types.StringType(), True),\n",
        "    types.StructField('Zone', types.StringType(), True),\n",
        "    types.StructField('service_zone', types.StringType(), True),\n",
        "])"
      ]
    },
    {
      "cell_type": "code",
      "execution_count": 45,
      "metadata": {
        "id": "dEge0CiOYGvu"
      },
      "outputs": [],
      "source": [
        "df_zones = spark.read \\\n",
        "    .option(\"header\", \"true\") \\\n",
        "    .schema(zones_schema) \\\n",
        "    .csv('/content/taxi_zone_lookup.csv')\n",
        "df_zones.registerTempTable('zones_data')"
      ]
    },
    {
      "cell_type": "code",
      "execution_count": 47,
      "metadata": {
        "colab": {
          "base_uri": "https://localhost:8080/"
        },
        "id": "w8nyBnttTLpp",
        "outputId": "e54a4f04-955c-4109-e3be-bc0a4477c5ab"
      },
      "outputs": [
        {
          "name": "stdout",
          "output_type": "stream",
          "text": [
            "+---------------+\n",
            "|max(diff_hours)|\n",
            "+---------------+\n",
            "|       631152.5|\n",
            "+---------------+\n",
            "\n"
          ]
        }
      ],
      "source": [
        "from pyspark.sql import functions as F\n",
        "\n",
        "df_fhv.where(F.to_date('pickup_datetime')=='2019-10-15').count()\n",
        "df_fhv.withColumn('diff_hours',(F.col(\"dropoff_datetime\").cast(\"long\") - F.col('pickup_datetime').cast(\"long\"))/F.lit(3600)).agg(F.max('diff_hours')).show()"
      ]
    },
    {
      "cell_type": "code",
      "execution_count": 49,
      "metadata": {
        "colab": {
          "base_uri": "https://localhost:8080/"
        },
        "id": "2SO3b4ouXbgl",
        "outputId": "2d1ddb1e-6633-4d6a-f35b-b129381ce2af"
      },
      "outputs": [
        {
          "name": "stdout",
          "output_type": "stream",
          "text": [
            "+--------------------+-----+\n",
            "|                Zone|trips|\n",
            "+--------------------+-----+\n",
            "|         Jamaica Bay|    1|\n",
            "|Governor's Island...|    2|\n",
            "| Green-Wood Cemetery|    5|\n",
            "|       Broad Channel|    8|\n",
            "|     Highbridge Park|   14|\n",
            "|        Battery Park|   15|\n",
            "|Saint Michaels Ce...|   23|\n",
            "|Breezy Point/Fort...|   25|\n",
            "|Marine Park/Floyd...|   26|\n",
            "|        Astoria Park|   29|\n",
            "|    Inwood Hill Park|   39|\n",
            "|       Willets Point|   47|\n",
            "|Forest Park/Highl...|   53|\n",
            "|  Brooklyn Navy Yard|   57|\n",
            "|        Crotona Park|   62|\n",
            "|        Country Club|   77|\n",
            "|     Freshkills Park|   89|\n",
            "|       Prospect Park|   98|\n",
            "|     Columbia Street|  105|\n",
            "|  South Williamsburg|  110|\n",
            "+--------------------+-----+\n",
            "only showing top 20 rows\n",
            "\n"
          ]
        }
      ],
      "source": [
        "spark.sql(\"\"\"\n",
        "SELECT\n",
        "    Zone,\n",
        "    count(*) AS trips\n",
        "FROM\n",
        "    fhv_tripdata\n",
        "LEFT JOIN\n",
        "    zones_data ON PULocationID = LocationID\n",
        "GROUP BY\n",
        "    Zone\n",
        "ORDER BY trips\n",
        "\"\"\").show()"
      ]
    }
  ],
  "metadata": {
    "colab": {
      "provenance": []
    },
    "kernelspec": {
      "display_name": "Python 3",
      "name": "python3"
    },
    "language_info": {
      "name": "python"
    }
  },
  "nbformat": 4,
  "nbformat_minor": 0
}
